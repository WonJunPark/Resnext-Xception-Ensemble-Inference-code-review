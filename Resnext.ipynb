{
  "nbformat": 4,
  "nbformat_minor": 0,
  "metadata": {
    "colab": {
      "name": "Colaboratory에 오신 것을 환영합니다의 사본",
      "provenance": [],
      "collapsed_sections": [],
      "toc_visible": true,
      "include_colab_link": true
    },
    "kernelspec": {
      "display_name": "Python 3",
      "name": "python3"
    }
  },
  "cells": [
    {
      "cell_type": "markdown",
      "metadata": {
        "id": "view-in-github",
        "colab_type": "text"
      },
      "source": [
        "<a href=\"https://colab.research.google.com/github/WonJunPark/Resnext-Xception-Ensemble-Inference-code-review/blob/master/Resnext.ipynb\" target=\"_parent\"><img src=\"https://colab.research.google.com/assets/colab-badge.svg\" alt=\"Open In Colab\"/></a>"
      ]
    },
    {
      "cell_type": "markdown",
      "metadata": {
        "id": "dl_x3eT6NBin",
        "colab_type": "text"
      },
      "source": [
        "Resnext & Xception Ensemble (Inference)\n",
        "\n",
        "\n",
        "This kernel outputs the ensemble of the results from https://www.kaggle.com/\n",
        "\n",
        "1.   khoongweihao/frames-per-video-viz and https://www.kaggle.com/greatgamedota/xception-binary-classifier-inference (not original, modified learning rate and epochs)\n",
        "2.   Frames per video at 64 (best found)\n",
        "\n",
        "\n"
      ]
    },
    {
      "cell_type": "markdown",
      "metadata": {
        "id": "xPmE4yMnOiK4",
        "colab_type": "text"
      },
      "source": [
        "# 데이터 불러오기"
      ]
    },
    {
      "cell_type": "code",
      "metadata": {
        "id": "Def0fM4ZNBs_",
        "colab_type": "code",
        "outputId": "e1a6bd69-a773-469a-9443-df1323f5e04a",
        "colab": {
          "base_uri": "https://localhost:8080/"
        }
      },
      "source": [
        "from google.colab import drive\n",
        "drive.mount('/content/gdrive')"
      ],
      "execution_count": 0,
      "outputs": [
        {
          "output_type": "stream",
          "text": [
            "Go to this URL in a browser: https://accounts.google.com/o/oauth2/auth?client_id=947318989803-6bn6qk8qdgf4n4g3pfee6491hc0brc4i.apps.googleusercontent.com&redirect_uri=urn%3aietf%3awg%3aoauth%3a2.0%3aoob&response_type=code&scope=email%20https%3a%2f%2fwww.googleapis.com%2fauth%2fdocs.test%20https%3a%2f%2fwww.googleapis.com%2fauth%2fdrive%20https%3a%2f%2fwww.googleapis.com%2fauth%2fdrive.photos.readonly%20https%3a%2f%2fwww.googleapis.com%2fauth%2fpeopleapi.readonly\n",
            "\n",
            "Enter your authorization code:\n",
            "··········\n",
            "Mounted at /content/gdrive\n"
          ],
          "name": "stdout"
        }
      ]
    },
    {
      "cell_type": "code",
      "metadata": {
        "id": "pDeU0VYfNbIe",
        "colab_type": "code",
        "outputId": "ad2cf7cd-60d1-4e16-853c-059fe021bb4d",
        "colab": {
          "base_uri": "https://localhost:8080/"
        }
      },
      "source": [
        "cd /content/gdrive/My Drive/deepfake-detection-challenge"
      ],
      "execution_count": 0,
      "outputs": [
        {
          "output_type": "stream",
          "text": [
            "/content/gdrive/My Drive/deepfake-detection-challenge\n"
          ],
          "name": "stdout"
        }
      ]
    },
    {
      "cell_type": "code",
      "metadata": {
        "id": "B25z2i1FN5Rq",
        "colab_type": "code",
        "colab": {}
      },
      "source": [
        "test_dir = \"/content/gdrive/My Drive/deepfake-detection-challenge/test_videos/\"\n",
        "\n",
        "test_videos = sorted([x for x in os.listdir(test_dir) if x[-4:] == \".mp4\"])"
      ],
      "execution_count": 0,
      "outputs": []
    },
    {
      "cell_type": "code",
      "metadata": {
        "id": "2sd162txN5YS",
        "colab_type": "code",
        "outputId": "29b33612-583b-46b4-d788-28ed05d2fcc9",
        "colab": {
          "base_uri": "https://localhost:8080/"
        }
      },
      "source": [
        "frame_h = 5\n",
        "frame_l = 5\n",
        "len(test_videos)"
      ],
      "execution_count": 0,
      "outputs": [
        {
          "output_type": "execute_result",
          "data": {
            "text/plain": [
              "400"
            ]
          },
          "metadata": {
            "tags": []
          },
          "execution_count": 23
        }
      ]
    },
    {
      "cell_type": "markdown",
      "metadata": {
        "id": "CPiE_vXjOp_q",
        "colab_type": "text"
      },
      "source": [
        "# 버전 확인"
      ]
    },
    {
      "cell_type": "code",
      "metadata": {
        "id": "MY5S1IPZOMRJ",
        "colab_type": "code",
        "outputId": "8746e91e-8a53-4abd-aa54-dd3da23e9247",
        "colab": {
          "base_uri": "https://localhost:8080/",
          "height": 70
        }
      },
      "source": [
        "print(\"PyTorch version:\", torch.__version__)\n",
        "print(\"CUDA version:\", torch.version.cuda)\n",
        "print(\"cuDNN version:\", torch.backends.cudnn.version())"
      ],
      "execution_count": 0,
      "outputs": [
        {
          "output_type": "stream",
          "text": [
            "PyTorch version: 1.4.0\n",
            "CUDA version: 10.1\n",
            "cuDNN version: 7603\n"
          ],
          "name": "stdout"
        }
      ]
    },
    {
      "cell_type": "code",
      "metadata": {
        "id": "YeIE18zwOMTn",
        "colab_type": "code",
        "outputId": "85c8e80e-1238-421b-a7ce-b608f1fc7a37",
        "colab": {
          "base_uri": "https://localhost:8080/",
          "height": 34
        }
      },
      "source": [
        "gpu = torch.device(\"cuda:0\" if torch.cuda.is_available() else \"cpu\")\n",
        "gpu"
      ],
      "execution_count": 0,
      "outputs": [
        {
          "output_type": "execute_result",
          "data": {
            "text/plain": [
              "device(type='cpu')"
            ]
          },
          "metadata": {
            "tags": []
          },
          "execution_count": 25
        }
      ]
    },
    {
      "cell_type": "markdown",
      "metadata": {
        "id": "M-VE0nLUOuOg",
        "colab_type": "text"
      },
      "source": [
        "# Resnext model"
      ]
    },
    {
      "cell_type": "code",
      "metadata": {
        "id": "I_yTYQ7rOMWY",
        "colab_type": "code",
        "colab": {}
      },
      "source": [
        "import sys\n",
        "sys.path.insert(0, \"/kaggle/input/blazeface-pytorch\")\n",
        "sys.path.insert(0, \"/kaggle/input/deepfakes-inference-demo\")"
      ],
      "execution_count": 0,
      "outputs": []
    },
    {
      "cell_type": "markdown",
      "metadata": {
        "id": "tln9on2rPYmk",
        "colab_type": "text"
      },
      "source": [
        "Blazeface\n",
        "- google reserach의 빠르고 가벼운 얼굴 탐지기\n",
        "- 눈2 귀2 코1 입1에 대한 6개의 키포인트를 예측\n",
        "- https://github.com/hollance/BlazeFace-PyTorch"
      ]
    },
    {
      "cell_type": "code",
      "metadata": {
        "id": "Ae5Ts7oTOZoi",
        "colab_type": "code",
        "colab": {}
      },
      "source": [
        "from blazeface import BlazeFace\n",
        "facedet = BlazeFace().to(gpu)\n",
        "facedet.load_weights(\"/kaggle/input/blazeface-pytorch/blazeface.pth\") # blazeface.pth : 훈련 된 모델의 가중치\n",
        "facedet.load_anchors(\"/kaggle/input/blazeface-pytorch/anchors.npy\") # anchors.npy : 앵커 박스가있는 룩업 테이블\n",
        "_ = facedet.train(False)"
      ],
      "execution_count": 0,
      "outputs": []
    },
    {
      "cell_type": "markdown",
      "metadata": {
        "id": "6-s_0nvvU8Ya",
        "colab_type": "text"
      },
      "source": [
        "VideoReader\n",
        "- 파이썬에서 비디오 파일 읽기를 단순화\n",
        "- https://github.com/postpop/videoreader\n",
        "\n",
        "FaceExtractor\n",
        "- 얼굴 추출기는 비디오에서 얼굴 데이터 세트를 만드는 도구입니다. 입력 데이터 (사진 또는 비디오)를 읽고 그 안에있는 얼굴을 검색하고 얼굴을 찾으면 자르고 원본 입력 파일을 수정하지 않고 출력 폴더에 인쇄합니다.\n",
        "- https://github.com/Baycosinus/face-extractor"
      ]
    },
    {
      "cell_type": "code",
      "metadata": {
        "id": "3_A5EPrfR_yz",
        "colab_type": "code",
        "colab": {}
      },
      "source": [
        "from helpers.read_video_1 import VideoReader\n",
        "from helpers.face_extract_1 import FaceExtractor\n",
        "\n",
        "frames_per_video = 64 #frame_h * frame_l\n",
        "video_reader = VideoReader() # 비디오를 읽음\n",
        "video_read_fn = lambda x: video_reader.read_frames(x, num_frames=frames_per_video) #비디오에서 얼굴 추출\n",
        "face_extractor = FaceExtractor(video_read_fn, facedet)"
      ],
      "execution_count": 0,
      "outputs": []
    },
    {
      "cell_type": "code",
      "metadata": {
        "id": "xY3w2Km7VtOM",
        "colab_type": "code",
        "colab": {}
      },
      "source": [
        "input_size = 224"
      ],
      "execution_count": 0,
      "outputs": []
    },
    {
      "cell_type": "code",
      "metadata": {
        "id": "N09Vcr5lVqSP",
        "colab_type": "code",
        "colab": {}
      },
      "source": [
        "from torchvision.transforms import Normalize #정규화\n",
        "\n",
        "mean = [0.485, 0.456, 0.406]\n",
        "std = [0.229, 0.224, 0.225]\n",
        "normalize_transform = Normalize(mean, std)"
      ],
      "execution_count": 0,
      "outputs": []
    },
    {
      "cell_type": "code",
      "metadata": {
        "id": "0ehji7p1Vqdc",
        "colab_type": "code",
        "colab": {}
      },
      "source": [
        "def isotropically_resize_image(img, size, resample=cv2.INTER_AREA):\n",
        "    h, w = img.shape[:2]\n",
        "    if w > h:\n",
        "        h = h * size // w\n",
        "        w = size\n",
        "    else:\n",
        "        w = w * size // h\n",
        "        h = size\n",
        "\n",
        "    resized = cv2.resize(img, (w, h), interpolation=resample)\n",
        "    return resized\n",
        "\n",
        "def make_square_image(img):\n",
        "    h, w = img.shape[:2]\n",
        "    size = max(h, w)\n",
        "    t = 0\n",
        "    b = size - h\n",
        "    l = 0\n",
        "    r = size - w\n",
        "    return cv2.copyMakeBorder(img, t, b, l, r, cv2.BORDER_CONSTANT, value=0)"
      ],
      "execution_count": 0,
      "outputs": []
    },
    {
      "cell_type": "code",
      "metadata": {
        "id": "95meolLZVzXk",
        "colab_type": "code",
        "colab": {}
      },
      "source": [
        "import torch.nn as nn\n",
        "import torchvision.models as models #resnet model 불러오기\n",
        "\n",
        "class MyResNeXt(models.resnet.ResNet):\n",
        "    def __init__(self, training=True):\n",
        "        super(MyResNeXt, self).__init__(block=models.resnet.Bottleneck,\n",
        "                                        layers=[3, 4, 6, 3], \n",
        "                                        groups=32, \n",
        "                                        width_per_group=4)\n",
        "        self.fc = nn.Linear(2048, 1)"
      ],
      "execution_count": 0,
      "outputs": []
    },
    {
      "cell_type": "code",
      "metadata": {
        "id": "AE1EfjwhVzaW",
        "colab_type": "code",
        "colab": {}
      },
      "source": [
        "checkpoint = torch.load(\"/kaggle/input/deepfakes-inference-demo/resnext.pth\", map_location=gpu) # 사전학습 모델\n",
        "\n",
        "model = MyResNeXt().to(gpu)\n",
        "model.load_state_dict(checkpoint) #학습해둔 모델을 불러옴\n",
        "_ = model.eval()\n",
        "\n",
        "del checkpoint"
      ],
      "execution_count": 0,
      "outputs": []
    },
    {
      "cell_type": "code",
      "metadata": {
        "id": "d1NwgZt0Vz-A",
        "colab_type": "code",
        "colab": {}
      },
      "source": [
        "def predict_on_video(video_path, batch_size):\n",
        "    try:\n",
        "\n",
        "        # Find the faces for N frames in the video.\n",
        "        faces = face_extractor.process_video(video_path) # 비디오에서 얼굴을 추출\n",
        "\n",
        "        # Only look at one face per frame.\n",
        "        face_extractor.keep_only_best_face(faces) #한개의 얼굴에 프레임을 씌움\n",
        "        \n",
        "        if len(faces) > 0:\n",
        "            # NOTE: When running on the CPU, the batch size must be fixed\n",
        "            # or else memory usage will blow up. (Bug in PyTorch?)\n",
        "            x = np.zeros((batch_size, input_size, input_size, 3), dtype=np.uint8) #one-hot 인코딩\n",
        "\n",
        "            n = 0\n",
        "            for frame_data in faces: # 1개의 mp4 파일\n",
        "                for face in frame_data[\"faces\"]: # mp4파일 내의 얼굴 이미지들\n",
        "                    # Resize to the model's required input size.\n",
        "                    # We keep the aspect ratio intact and add zero\n",
        "                    # padding if necessary.                    \n",
        "                    resized_face = isotropically_resize_image(face, input_size) # input_size에 맞게 이미지 전처리 (input_size = 224)\n",
        "                    resized_face = make_square_image(resized_face)  # 얼굴 부분에 squear을 만듬\n",
        "\n",
        "                    if n < batch_size:\n",
        "                        x[n] = resized_face\n",
        "                        n += 1\n",
        "                    else:\n",
        "                        print(\"WARNING: have %d faces but batch size is %d\" % (n, batch_size))\n",
        "                    \n",
        "                    # Test time augmentation: horizontal flips.\n",
        "                    # TODO: not sure yet if this helps or not\n",
        "                    #x[n] = cv2.flip(resized_face, 1)\n",
        "                    #n += 1\n",
        "\n",
        "            if n > 0: #전처리 완료된 이미지들을 모델에 대입\n",
        "                x = torch.tensor(x, device=gpu).float()\n",
        "\n",
        "                # Preprocess the images.\n",
        "                x = x.permute((0, 3, 1, 2))\n",
        "\n",
        "                for i in range(len(x)):\n",
        "                    x[i] = normalize_transform(x[i] / 255.) #정규화\n",
        "\n",
        "                # Make a prediction, then take the average.\n",
        "                with torch.no_grad():\n",
        "                    y_pred = model(x) # resnext 모델로 예측\n",
        "                    y_pred = torch.sigmoid(y_pred.squeeze())\n",
        "                    return y_pred[:n].mean().item()\n",
        "\n",
        "    except Exception as e:\n",
        "        print(\"Prediction error on video %s: %s\" % (video_path, str(e)))\n",
        "\n",
        "    return 0.5"
      ],
      "execution_count": 0,
      "outputs": []
    },
    {
      "cell_type": "markdown",
      "metadata": {
        "id": "3WVWGIFViBu4",
        "colab_type": "text"
      },
      "source": [
        "concurrent.futures \n",
        "- 병렬 작업 실행\n",
        "- https://docs.python.org/ko/3.7/library/concurrent.futures.html"
      ]
    },
    {
      "cell_type": "code",
      "metadata": {
        "id": "faFqCYxpV0BC",
        "colab_type": "code",
        "colab": {}
      },
      "source": [
        "from concurrent.futures import ThreadPoolExecutor\n",
        "\n",
        "def predict_on_video_set(videos, num_workers):\n",
        "    def process_file(i):\n",
        "        filename = videos[i]\n",
        "        y_pred = predict_on_video(os.path.join(test_dir, filename), batch_size=frames_per_video) #모든 test set에 대한 예측값\n",
        "        return y_pred\n",
        "\n",
        "    with ThreadPoolExecutor(max_workers=num_workers) as ex:\n",
        "        predictions = ex.map(process_file, range(len(videos))) #병렬 작업\n",
        "\n",
        "    return list(predictions)"
      ],
      "execution_count": 0,
      "outputs": []
    },
    {
      "cell_type": "code",
      "metadata": {
        "id": "VFyPpdlEX3TO",
        "colab_type": "code",
        "colab": {}
      },
      "source": [
        "speed_test = False  #속도를 확인하려면 True값으로 지정 # you have to enable this manually"
      ],
      "execution_count": 0,
      "outputs": []
    },
    {
      "cell_type": "code",
      "metadata": {
        "id": "H4qc1A5_X3Vu",
        "colab_type": "code",
        "colab": {}
      },
      "source": [
        "if speed_test:\n",
        "    start_time = time.time()\n",
        "    speedtest_videos = test_videos[:5]\n",
        "    predictions = predict_on_video_set(speedtest_videos, num_workers=4)\n",
        "    elapsed = time.time() - start_time\n",
        "    print(\"Elapsed %f sec. Average per video: %f sec.\" % (elapsed, elapsed / len(speedtest_videos)))"
      ],
      "execution_count": 0,
      "outputs": []
    },
    {
      "cell_type": "code",
      "metadata": {
        "id": "lxoVWYNsX3YM",
        "colab_type": "code",
        "colab": {}
      },
      "source": [
        "predictions = predict_on_video_set(test_videos, num_workers=4) #병렬 처리 시작"
      ],
      "execution_count": 0,
      "outputs": []
    },
    {
      "cell_type": "code",
      "metadata": {
        "id": "M7obXr5MX7OR",
        "colab_type": "code",
        "colab": {}
      },
      "source": [
        "submission_df_resnext = pd.DataFrame({\"filename\": test_videos, \"label\": predictions})\n",
        "submission_df_resnext.to_csv(\"submission_resnext.csv\", index=False)"
      ],
      "execution_count": 0,
      "outputs": []
    }
  ]
}